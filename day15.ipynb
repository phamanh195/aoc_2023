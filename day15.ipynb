{
 "cells": [
  {
   "cell_type": "code",
   "execution_count": 21,
   "id": "0f35df1c",
   "metadata": {},
   "outputs": [],
   "source": [
    "test_input = 'rn=1,cm-,qp=3,cm=2,qp-,pc=4,ot=9,ab=5,pc-,pc=6,ot=7'\n",
    "with open('day15.txt', 'rt') as f: raw_input = f.read()"
   ]
  },
  {
   "cell_type": "code",
   "execution_count": 40,
   "id": "45371919",
   "metadata": {},
   "outputs": [],
   "source": [
    "from functools import reduce\n",
    "from collections import namedtuple\n",
    "\n",
    "Len = namedtuple('Len', ['label', 'focal_length'])\n",
    "\n",
    "\n",
    "def _holiday_ascii(char: str, current_value: int = 0):\n",
    "    return (ord(char) + current_value) * 17 % 256\n",
    "\n",
    "def holiday_ascii(text: str):\n",
    "    current_value = 0\n",
    "    for char in text:\n",
    "        current_value = _holiday_ascii(char, current_value)\n",
    "    return current_value\n",
    "\n",
    "def solve1(raw_input: str):\n",
    "    return sum([holiday_ascii(item) for item in raw_input.strip().split(',')])\n",
    "\n",
    "def solve2(raw_input: str):\n",
    "    boxes = [[] for _ in range(256)]\n",
    "    \n",
    "    for row in raw_input.strip().split(','):\n",
    "        label, focal_length = row.replace('=', '-').split('-')\n",
    "        box_index = holiday_ascii(label)\n",
    "        focal_length = int(focal_length) if focal_length else 0\n",
    "        new_item = Len(label, focal_length)\n",
    "        if '-' in row:\n",
    "            box = boxes[box_index]\n",
    "            new_box = []\n",
    "            for item in box:\n",
    "                if item.label == new_item.label:\n",
    "                    continue\n",
    "                else:\n",
    "                    new_box.append(item)\n",
    "            boxes[box_index] = new_box\n",
    "        else:\n",
    "            box = boxes[box_index]\n",
    "            new_box = []\n",
    "            is_in = False\n",
    "            for item in box:\n",
    "                if item.label == new_item.label:\n",
    "                    is_in = True\n",
    "                    new_box.append(new_item)\n",
    "                else:\n",
    "                    new_box.append(item)\n",
    "            if not is_in:\n",
    "                new_box.append(new_item)\n",
    "            boxes[box_index] = new_box\n",
    "        \n",
    "    print(boxes)\n",
    "\n",
    "    focusing_power = 0\n",
    "    for box_number, box in enumerate(boxes, 1):\n",
    "        for slot, item in enumerate(box, 1):\n",
    "            focusing_power += box_number * item.focal_length * slot\n",
    "    return focusing_power"
   ]
  },
  {
   "cell_type": "code",
   "execution_count": 41,
   "id": "28f6b133",
   "metadata": {},
   "outputs": [
    {
     "name": "stdout",
     "output_type": "stream",
     "text": [
      "[[Len(label='rn', focal_length=1), Len(label='cm', focal_length=2)], [], [], [Len(label='ot', focal_length=7), Len(label='ab', focal_length=5), Len(label='pc', focal_length=6)], [], [], [], [], [], [], [], [], [], [], [], [], [], [], [], [], [], [], [], [], [], [], [], [], [], [], [], [], [], [], [], [], [], [], [], [], [], [], [], [], [], [], [], [], [], [], [], [], [], [], [], [], [], [], [], [], [], [], [], [], [], [], [], [], [], [], [], [], [], [], [], [], [], [], [], [], [], [], [], [], [], [], [], [], [], [], [], [], [], [], [], [], [], [], [], [], [], [], [], [], [], [], [], [], [], [], [], [], [], [], [], [], [], [], [], [], [], [], [], [], [], [], [], [], [], [], [], [], [], [], [], [], [], [], [], [], [], [], [], [], [], [], [], [], [], [], [], [], [], [], [], [], [], [], [], [], [], [], [], [], [], [], [], [], [], [], [], [], [], [], [], [], [], [], [], [], [], [], [], [], [], [], [], [], [], [], [], [], [], [], [], [], [], [], [], [], [], [], [], [], [], [], [], [], [], [], [], [], [], [], [], [], [], [], [], [], [], [], [], [], [], [], [], [], [], [], [], [], [], [], [], [], [], [], [], [], [], [], [], [], [], [], [], [], [], [], [], [], [], [], [], []]\n"
     ]
    },
    {
     "data": {
      "text/plain": [
       "145"
      ]
     },
     "execution_count": 41,
     "metadata": {},
     "output_type": "execute_result"
    }
   ],
   "source": [
    "solve2(test_input)"
   ]
  },
  {
   "cell_type": "code",
   "execution_count": 23,
   "id": "ce48dc00",
   "metadata": {},
   "outputs": [
    {
     "data": {
      "text/plain": [
       "522547"
      ]
     },
     "execution_count": 23,
     "metadata": {},
     "output_type": "execute_result"
    }
   ],
   "source": [
    "solve1(raw_input)"
   ]
  },
  {
   "cell_type": "code",
   "execution_count": 39,
   "id": "d01e1d00",
   "metadata": {},
   "outputs": [
    {
     "name": "stdout",
     "output_type": "stream",
     "text": [
      "assad\n"
     ]
    }
   ],
   "source": [
    "for i in [1, 2]:\n",
    "    pass\n",
    "else:\n",
    "    print('assad')"
   ]
  },
  {
   "cell_type": "code",
   "execution_count": null,
   "id": "789ec406",
   "metadata": {},
   "outputs": [],
   "source": []
  },
  {
   "cell_type": "code",
   "execution_count": null,
   "id": "a762f479",
   "metadata": {},
   "outputs": [],
   "source": []
  },
  {
   "cell_type": "code",
   "execution_count": null,
   "id": "93edd6d4",
   "metadata": {},
   "outputs": [],
   "source": []
  },
  {
   "cell_type": "code",
   "execution_count": null,
   "id": "229bfd21",
   "metadata": {},
   "outputs": [],
   "source": []
  },
  {
   "cell_type": "code",
   "execution_count": null,
   "id": "95ae484d",
   "metadata": {},
   "outputs": [],
   "source": []
  },
  {
   "cell_type": "code",
   "execution_count": null,
   "id": "afc914d8",
   "metadata": {},
   "outputs": [],
   "source": []
  },
  {
   "cell_type": "code",
   "execution_count": null,
   "id": "2bb6029a",
   "metadata": {},
   "outputs": [],
   "source": []
  },
  {
   "cell_type": "code",
   "execution_count": null,
   "id": "299570b6",
   "metadata": {},
   "outputs": [],
   "source": []
  },
  {
   "cell_type": "code",
   "execution_count": null,
   "id": "0aea512d",
   "metadata": {},
   "outputs": [],
   "source": []
  },
  {
   "cell_type": "code",
   "execution_count": null,
   "id": "b52f8ced",
   "metadata": {},
   "outputs": [],
   "source": []
  },
  {
   "cell_type": "code",
   "execution_count": null,
   "id": "bd894f32",
   "metadata": {},
   "outputs": [],
   "source": []
  }
 ],
 "metadata": {
  "kernelspec": {
   "display_name": "Python 3 (ipykernel)",
   "language": "python",
   "name": "python3"
  },
  "language_info": {
   "codemirror_mode": {
    "name": "ipython",
    "version": 3
   },
   "file_extension": ".py",
   "mimetype": "text/x-python",
   "name": "python",
   "nbconvert_exporter": "python",
   "pygments_lexer": "ipython3",
   "version": "3.10.12"
  }
 },
 "nbformat": 4,
 "nbformat_minor": 5
}
