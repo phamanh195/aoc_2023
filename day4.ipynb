{
 "cells": [
  {
   "cell_type": "code",
   "execution_count": 2,
   "id": "3b0b3070",
   "metadata": {},
   "outputs": [],
   "source": [
    "from collections import namedtuple\n",
    "\n",
    "Card = namedtuple('Card', ['winning_numbers', 'own_numbers'])\n",
    "\n",
    "def parse_card(card: str):\n",
    "    numbers = card.strip().split(':')[1].strip()\n",
    "    winning, own = numbers.split('|')\n",
    "    winning_numbers = set(map(int, winning.strip().split()))\n",
    "    own_numbers = set(map(int, own.strip().split()))\n",
    "    return Card(winning_numbers, own_numbers)\n",
    "\n",
    "def find_winning_numbers(card: str):\n",
    "    winnig_numbers, own_numbers = parse_card(card)\n",
    "    match_numbers = own_numbers & winnig_numbers\n",
    "    return match_numbers\n",
    "\n",
    "def calculate_worth_card(winning_numbers: set) -> int:\n",
    "    if not winning_numbers:\n",
    "        return 0\n",
    "    return 2 ** (len(winning_numbers) - 1)\n",
    "\n",
    "def calculate_total_worth(cards: list[str]) -> int:\n",
    "    total = 0\n",
    "    for card in cards:\n",
    "        winning_numbers = find_winning_numbers(card)\n",
    "        point = calculate_worth_card(winning_numbers)\n",
    "        total += point\n",
    "    return total"
   ]
  },
  {
   "cell_type": "code",
   "execution_count": 125,
   "id": "4774a122",
   "metadata": {
    "scrolled": true
   },
   "outputs": [
    {
     "name": "stdout",
     "output_type": "stream",
     "text": [
      "27454\n"
     ]
    }
   ],
   "source": [
    "with open('day4.txt', 'rt') as f: cards = f.readlines()\n",
    "\n",
    "print(calculate_total_worth(cards))"
   ]
  },
  {
   "cell_type": "code",
   "execution_count": 124,
   "id": "1d205628",
   "metadata": {},
   "outputs": [
    {
     "data": {
      "text/plain": [
       "defaultdict(int, {1: 1, 2: 2, 3: 4, 4: 8, 5: 14, 6: 1})"
      ]
     },
     "execution_count": 124,
     "metadata": {},
     "output_type": "execute_result"
    }
   ],
   "source": [
    "from collections import defaultdict, deque\n",
    "\n",
    "def find_win_cards(cards: list[str]) -> dict:\n",
    "    max_card_id = len(cards)\n",
    "    win_cards = {}\n",
    "    for card_id, card in enumerate(cards, 1):\n",
    "        win_cards[card_id] = []\n",
    "        winning = len(find_winning_numbers(card))\n",
    "        if winning:\n",
    "            max_next_card_id = min(max_card_id, card_id + winning)\n",
    "            win_cards[card_id].extend(range(card_id + 1, max_next_card_id + 1))\n",
    "    return win_cards    \n",
    "\n",
    "def total_cards(win_cards):\n",
    "    stacks = deque(win_cards)\n",
    "    total = defaultdict(int)\n",
    "    \n",
    "    while stacks:\n",
    "        card_id = stacks.popleft()\n",
    "        total[card_id] += 1\n",
    "        cards = win_cards[card_id]\n",
    "        if cards:\n",
    "            stacks.extend(cards)\n",
    "    return total\n",
    "            \n",
    "total_cards(find_win_cards(test_cards))"
   ]
  },
  {
   "cell_type": "code",
   "execution_count": 126,
   "id": "4c416960",
   "metadata": {},
   "outputs": [
    {
     "data": {
      "text/plain": [
       "6857330"
      ]
     },
     "execution_count": 126,
     "metadata": {},
     "output_type": "execute_result"
    }
   ],
   "source": [
    "sum(total_cards(find_win_cards(cards)).values())"
   ]
  },
  {
   "cell_type": "code",
   "execution_count": null,
   "id": "e436f496",
   "metadata": {},
   "outputs": [],
   "source": []
  }
 ],
 "metadata": {
  "kernelspec": {
   "display_name": "Python 3 (ipykernel)",
   "language": "python",
   "name": "python3"
  },
  "language_info": {
   "codemirror_mode": {
    "name": "ipython",
    "version": 3
   },
   "file_extension": ".py",
   "mimetype": "text/x-python",
   "name": "python",
   "nbconvert_exporter": "python",
   "pygments_lexer": "ipython3",
   "version": "3.10.12"
  }
 },
 "nbformat": 4,
 "nbformat_minor": 5
}
