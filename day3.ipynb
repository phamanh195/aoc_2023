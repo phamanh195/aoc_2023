{
 "cells": [
  {
   "cell_type": "code",
   "execution_count": 7,
   "id": "e3a1d031",
   "metadata": {},
   "outputs": [],
   "source": [
    "from collections import namedtuple\n",
    "\n",
    "Position = namedtuple('Position', ['x', 'y'])\n",
    "Delta = namedtuple('Delta', ['dx', 'dy'])\n",
    "Matrix = list[str]\n",
    "\n",
    "AdjacentDelta = [\n",
    "    Delta(dx=-1, dy=-1),\n",
    "    Delta(dx=-1, dy=0),\n",
    "    Delta(dx=-1, dy=1),\n",
    "    Delta(dx=0, dy=-1),\n",
    "    Delta(dx=0, dy=1),\n",
    "    Delta(dx=1, dy=-1),\n",
    "    Delta(dx=1, dy=0),\n",
    "    Delta(dx=1, dy=1),\n",
    "]\n",
    "\n",
    "def is_symbol(char: str) -> bool:\n",
    "    return not (char.isdigit() or char == '.')\n",
    "\n",
    "def get_matrix_item(matrix: Matrix, pos: Position) -> str:\n",
    "    return matrix[pos.y][pos.x]\n",
    "\n",
    "def get_max_position(matrix: Matrix) -> Position:\n",
    "    max_x = len(matrix[0]) - 1\n",
    "    max_y = len(matrix) - 1\n",
    "    return Position(x=max_x, y=max_y)\n",
    "\n",
    "def get_adjacent_positions(matrix: Matrix, pos: Position) -> list[Position]:\n",
    "    adj_positions = []\n",
    "    max_pos = get_max_position(matrix=matrix)\n",
    "\n",
    "    for delta in AdjacentDelta:\n",
    "        adj_pos = Position(x=pos.x + delta.dx, y=pos.y + delta.dy)\n",
    "        if adj_pos.x < 0 or adj_pos.y < 0 or adj_pos.x > max_pos.x or adj_pos.y > max_pos.y:\n",
    "            continue\n",
    "        else:\n",
    "            adj_positions.append(adj_pos)\n",
    "    return adj_positions\n",
    "\n",
    "def is_part_number(matrix: Matrix, pos: Position) -> bool:\n",
    "    for adj_pos in get_adjacent_positions(matrix=matrix, pos=pos):\n",
    "        adj_char = get_matrix_item(matrix=matrix, pos=adj_pos)\n",
    "        if is_symbol(char=adj_char):\n",
    "            return True\n",
    "    return False\n",
    "\n",
    "def find_part_numbers(matrix: Matrix) -> list[int]:\n",
    "    max_pos = get_max_position(matrix=matrix)\n",
    "    \n",
    "    part_numbers = []\n",
    "    for y in range(max_pos.y + 1):\n",
    "        tmp = ''\n",
    "        is_part_number_flg = False\n",
    "        for x in range(max_pos.x + 1):\n",
    "            pos = Position(x=x, y=y)\n",
    "            char = get_matrix_item(matrix=matrix, pos=pos)\n",
    "            if char.isdigit():\n",
    "                tmp += char\n",
    "                is_part_number_flg = is_part_number_flg or is_part_number(matrix=matrix, pos=pos)\n",
    "            \n",
    "            if not char.isdigit() or pos.x == max_pos.x:\n",
    "                if tmp and is_part_number_flg:\n",
    "                    part_numbers.append(int(tmp))\n",
    "                tmp = ''\n",
    "                is_part_number_flg = False\n",
    "    return part_numbers\n"
   ]
  },
  {
   "cell_type": "code",
   "execution_count": 9,
   "id": "30bf4502",
   "metadata": {},
   "outputs": [
    {
     "name": "stdout",
     "output_type": "stream",
     "text": [
      "550934\n"
     ]
    }
   ],
   "source": [
    "with open('day3.txt', 'rt') as f: matrix = f.read().splitlines()\n",
    "\n",
    "print(sum(find_part_numbers(matrix=matrix)))"
   ]
  },
  {
   "cell_type": "code",
   "execution_count": 14,
   "id": "46d48c0b",
   "metadata": {},
   "outputs": [],
   "source": [
    "from collections import defaultdict\n",
    "\n",
    "IsGearRatio = namedtuple('IsGearRatio', ['is_gear_ratio', 'gear_pos'])\n",
    "\n",
    "def is_gear_ratio(matrix: Matrix, pos: Position) -> IsGearRatio:\n",
    "    for adj_pos in get_adjacent_positions(matrix=matrix, pos=pos):\n",
    "        adj_char = get_matrix_item(matrix=matrix, pos=adj_pos)\n",
    "        if adj_char == '*':\n",
    "            return IsGearRatio(is_gear_ratio=True, gear_pos=adj_pos)\n",
    "    return IsGearRatio(is_gear_ratio=False, gear_pos=None)\n",
    "\n",
    "def multiple(*numbers):\n",
    "    result = 1\n",
    "    for number in numbers:\n",
    "        result *= number\n",
    "    return result\n",
    "\n",
    "def find_gear_ratios(matrix: Matrix) -> list[int]:\n",
    "    max_pos = get_max_position(matrix=matrix)\n",
    "    \n",
    "    gear_adj_numbers = defaultdict(list)\n",
    "    for y in range(max_pos.y + 1):\n",
    "        tmp = ''\n",
    "        is_part_number_flg = False\n",
    "        is_gear_ratio_flg = False\n",
    "        gear_pos = None\n",
    "        for x in range(max_pos.x + 1):\n",
    "            pos = Position(x=x, y=y)\n",
    "            char = get_matrix_item(matrix=matrix, pos=pos)\n",
    "            if char.isdigit():\n",
    "                tmp += char\n",
    "                is_part_number_flg = is_part_number_flg or is_part_number(matrix=matrix, pos=pos)\n",
    "                _is_gear_ratio_flg, _gear_pos = is_gear_ratio(matrix=matrix, pos=pos)\n",
    "                is_gear_ratio_flg = is_gear_ratio_flg or _is_gear_ratio_flg\n",
    "                gear_pos = gear_pos or _gear_pos\n",
    "            \n",
    "            if not char.isdigit() or pos.x == max_pos.x:\n",
    "                if tmp and is_part_number_flg and is_gear_ratio_flg:\n",
    "                    gear_adj_numbers[gear_pos].append(int(tmp))\n",
    "                tmp = ''\n",
    "                is_part_number_flg = False\n",
    "                is_gear_ratio_flg = False\n",
    "                gear_pos = None\n",
    "    \n",
    "    gear_ratios = []\n",
    "    for numbers in gear_adj_numbers.values():\n",
    "        if len(numbers) == 2:\n",
    "            gear_ratios.append(multiple(*numbers))\n",
    "            \n",
    "    return gear_ratios"
   ]
  },
  {
   "cell_type": "code",
   "execution_count": 16,
   "id": "222d3283",
   "metadata": {},
   "outputs": [
    {
     "name": "stdout",
     "output_type": "stream",
     "text": [
      "81997870\n"
     ]
    }
   ],
   "source": [
    "print(sum(find_gear_ratios(matrix)))"
   ]
  },
  {
   "cell_type": "code",
   "execution_count": null,
   "id": "57f49333",
   "metadata": {},
   "outputs": [],
   "source": []
  },
  {
   "cell_type": "code",
   "execution_count": null,
   "id": "d3dc2f8c",
   "metadata": {},
   "outputs": [],
   "source": []
  },
  {
   "cell_type": "code",
   "execution_count": null,
   "id": "c1a6b9e5",
   "metadata": {},
   "outputs": [],
   "source": []
  },
  {
   "cell_type": "code",
   "execution_count": null,
   "id": "38df5e88",
   "metadata": {},
   "outputs": [],
   "source": []
  },
  {
   "cell_type": "code",
   "execution_count": null,
   "id": "fbfae1bd",
   "metadata": {},
   "outputs": [],
   "source": []
  },
  {
   "cell_type": "code",
   "execution_count": null,
   "id": "3e200af5",
   "metadata": {},
   "outputs": [],
   "source": []
  },
  {
   "cell_type": "code",
   "execution_count": null,
   "id": "f7e2e4e3",
   "metadata": {},
   "outputs": [],
   "source": []
  },
  {
   "cell_type": "code",
   "execution_count": null,
   "id": "bfa8b63e",
   "metadata": {},
   "outputs": [],
   "source": []
  },
  {
   "cell_type": "code",
   "execution_count": null,
   "id": "647d7c10",
   "metadata": {},
   "outputs": [],
   "source": []
  },
  {
   "cell_type": "code",
   "execution_count": null,
   "id": "387988cd",
   "metadata": {},
   "outputs": [],
   "source": []
  }
 ],
 "metadata": {
  "kernelspec": {
   "display_name": "Python 3 (ipykernel)",
   "language": "python",
   "name": "python3"
  },
  "language_info": {
   "codemirror_mode": {
    "name": "ipython",
    "version": 3
   },
   "file_extension": ".py",
   "mimetype": "text/x-python",
   "name": "python",
   "nbconvert_exporter": "python",
   "pygments_lexer": "ipython3",
   "version": "3.10.12"
  }
 },
 "nbformat": 4,
 "nbformat_minor": 5
}
