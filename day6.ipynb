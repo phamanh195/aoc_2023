{
 "cells": [
  {
   "cell_type": "code",
   "execution_count": 23,
   "id": "c44ce951",
   "metadata": {},
   "outputs": [],
   "source": [
    "def calculate_ways(total_time: int, distance: int):\n",
    "    ways = [hold_time for hold_time in range(total_time + 1) if (total_time - hold_time)*hold_time > distance]\n",
    "    return ways"
   ]
  },
  {
   "cell_type": "code",
   "execution_count": 24,
   "id": "3ec2234c",
   "metadata": {},
   "outputs": [
    {
     "data": {
      "text/plain": [
       "[2, 3, 4, 5]"
      ]
     },
     "execution_count": 24,
     "metadata": {},
     "output_type": "execute_result"
    }
   ],
   "source": [
    "calculate_ways(7, 9)"
   ]
  },
  {
   "cell_type": "code",
   "execution_count": 9,
   "id": "ebda10fe",
   "metadata": {},
   "outputs": [],
   "source": [
    "test_input = \"\"\"\n",
    "Time:      7  15   30\n",
    "Distance:  9  40  200\n",
    "\"\"\""
   ]
  },
  {
   "cell_type": "code",
   "execution_count": 10,
   "id": "a04f7f93",
   "metadata": {},
   "outputs": [],
   "source": [
    "def parse(raw_input: str):\n",
    "    times = map(int, raw_input.strip().splitlines()[0].strip().split(':')[1].strip().split())\n",
    "    distances = map(int, raw_input.strip().splitlines()[1].strip().split(':')[1].strip().split())\n",
    "    return zip(times, distances)"
   ]
  },
  {
   "cell_type": "code",
   "execution_count": 27,
   "id": "d201ebf3",
   "metadata": {},
   "outputs": [
    {
     "data": {
      "text/plain": [
       "288"
      ]
     },
     "execution_count": 27,
     "metadata": {},
     "output_type": "execute_result"
    }
   ],
   "source": [
    "from functools import reduce\n",
    "\n",
    "reduce(lambda x, y: x * y, (len(calculate_ways(t, d)) for t, d in parse(test_input)))"
   ]
  },
  {
   "cell_type": "code",
   "execution_count": 28,
   "id": "e9ba1555",
   "metadata": {},
   "outputs": [
    {
     "data": {
      "text/plain": [
       "1731600"
      ]
     },
     "execution_count": 28,
     "metadata": {},
     "output_type": "execute_result"
    }
   ],
   "source": [
    "raw_input = \"\"\"\n",
    "Time:        50     74     86     85\n",
    "Distance:   242   1017   1691   1252\n",
    "\"\"\".strip()\n",
    "\n",
    "reduce(lambda x, y: x * y, (len(calculate_ways(t, d)) for t, d in parse(raw_input)))"
   ]
  },
  {
   "cell_type": "code",
   "execution_count": 30,
   "id": "20446670",
   "metadata": {},
   "outputs": [
    {
     "data": {
      "text/plain": [
       "40087680"
      ]
     },
     "execution_count": 30,
     "metadata": {},
     "output_type": "execute_result"
    }
   ],
   "source": [
    "raw_input = \"\"\"\n",
    "Time:        50748685\n",
    "Distance:   242101716911252\n",
    "\"\"\".strip()\n",
    "\n",
    "reduce(lambda x, y: x * y, (len(calculate_ways(t, d)) for t, d in parse(raw_input)))"
   ]
  },
  {
   "cell_type": "code",
   "execution_count": 62,
   "id": "9bb632b7",
   "metadata": {},
   "outputs": [],
   "source": [
    "from functools import reduce\n",
    "from math import sqrt, ceil\n",
    "from collections import namedtuple\n",
    "\n",
    "Race = namedtuple('Race', ['total_time', 'distance'])\n",
    "\n",
    "def count_ways(total_time: int, distance: int):\n",
    "    try:\n",
    "        delta = sqrt((total_time / 2) ** 2 - distance)\n",
    "    except ValueError:\n",
    "        return 0\n",
    "    min_hold_time = total_time / 2 - delta\n",
    "    max_hold_time = total_time / 2 + delta\n",
    "    total_ways = (ceil(max_hold_time) - 1) - (int(min_hold_time) + 1) + 1\n",
    "    return total_ways\n",
    "\n",
    "def multiple_races(races: list[Race]) -> int:\n",
    "    return reduce(lambda x, y: x * y, (count_ways(*race) for race in races))\n",
    "\n",
    "def solve_part1(raw_input: str) -> int:\n",
    "    total_times = map(int, raw_input.strip().splitlines()[0].strip().split(':')[1].strip().split())\n",
    "    distances = map(int, raw_input.strip().splitlines()[1].strip().split(':')[1].strip().split())\n",
    "    races = zip(total_times, distances)\n",
    "    return multiple_races(races)\n",
    "\n",
    "def solve_part2(raw_input: str) -> int:\n",
    "    total_time = int(raw_input.strip().splitlines()[0].strip().split(':')[1].strip().replace(' ', ''))\n",
    "    distance = int(raw_input.strip().splitlines()[1].strip().split(':')[1].strip().replace(' ', ''))\n",
    "    return count_ways(total_time, distance)"
   ]
  },
  {
   "cell_type": "code",
   "execution_count": 67,
   "id": "ed685522",
   "metadata": {
    "scrolled": true
   },
   "outputs": [
    {
     "data": {
      "text/plain": [
       "40087680"
      ]
     },
     "execution_count": 67,
     "metadata": {},
     "output_type": "execute_result"
    }
   ],
   "source": [
    "solve_part1(raw_input)"
   ]
  },
  {
   "cell_type": "code",
   "execution_count": 43,
   "id": "eecddade",
   "metadata": {},
   "outputs": [
    {
     "data": {
      "text/plain": [
       "12.25"
      ]
     },
     "execution_count": 43,
     "metadata": {},
     "output_type": "execute_result"
    }
   ],
   "source": [
    "(7/2)**2"
   ]
  },
  {
   "cell_type": "code",
   "execution_count": null,
   "id": "80377a85",
   "metadata": {},
   "outputs": [],
   "source": []
  },
  {
   "cell_type": "code",
   "execution_count": null,
   "id": "3d636428",
   "metadata": {},
   "outputs": [],
   "source": []
  },
  {
   "cell_type": "code",
   "execution_count": null,
   "id": "964def6a",
   "metadata": {},
   "outputs": [],
   "source": []
  }
 ],
 "metadata": {
  "kernelspec": {
   "display_name": "Python 3 (ipykernel)",
   "language": "python",
   "name": "python3"
  },
  "language_info": {
   "codemirror_mode": {
    "name": "ipython",
    "version": 3
   },
   "file_extension": ".py",
   "mimetype": "text/x-python",
   "name": "python",
   "nbconvert_exporter": "python",
   "pygments_lexer": "ipython3",
   "version": "3.10.12"
  }
 },
 "nbformat": 4,
 "nbformat_minor": 5
}
