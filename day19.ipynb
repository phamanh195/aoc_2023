{
 "cells": [
  {
   "cell_type": "code",
   "execution_count": 25,
   "id": "0c5c08c4",
   "metadata": {},
   "outputs": [],
   "source": [
    "test_input = \"\"\"\n",
    "px{a<2006:qkq,m>2090:A,rfg}\n",
    "pv{a>1716:R,A}\n",
    "lnx{m>1548:A,A}\n",
    "rfg{s<537:gd,x>2440:R,A}\n",
    "qs{s>3448:A,lnx}\n",
    "qkq{x<1416:A,crn}\n",
    "crn{x>2662:A,R}\n",
    "in{s<1351:px,qqz}\n",
    "qqz{s>2770:qs,m<1801:hdj,R}\n",
    "gd{a>3333:R,R}\n",
    "hdj{m>838:A,pv}\n",
    "\n",
    "{x=787,m=2655,a=1222,s=2876}\n",
    "{x=1679,m=44,a=2067,s=496}\n",
    "{x=2036,m=264,a=79,s=2244}\n",
    "{x=2461,m=1339,a=466,s=291}\n",
    "{x=2127,m=1623,a=2188,s=1013}\n",
    "\"\"\"\n",
    "\n",
    "with open('day19.txt', 'rt') as f: raw_input = f.read()"
   ]
  },
  {
   "cell_type": "code",
   "execution_count": 118,
   "id": "3f0c5bd4",
   "metadata": {},
   "outputs": [],
   "source": [
    "from collections import namedtuple\n",
    "from queue import deque\n",
    "\n",
    "Part = namedtuple('Part', ['x', 'm', 'a', 's'])\n",
    "Operation = namedtuple('Operation', ['key', 'opr', 'value', 'result'])\n",
    "\n",
    "def parse_rules(raw_input: str) -> dict[str, list]:\n",
    "    raw_rules = raw_input.strip().split('\\n\\n')[0].strip()\n",
    "    rules = {}\n",
    "\n",
    "    for row in raw_rules.splitlines():\n",
    "        operations = []\n",
    "        key = row.strip().split('{')[0]\n",
    "        raw_operations = row.strip().split('{')[1].strip('}')\n",
    "        for raw_operation in raw_operations.split(','):\n",
    "            if ':' in raw_operation:\n",
    "                result = raw_operation.split(':')[1]\n",
    "                ropr = raw_operation.split(':')[0]\n",
    "                if '<' in ropr:\n",
    "                    opr = '__lt__'\n",
    "                    okey = ropr.split('<')[0]\n",
    "                    ovalue = int(ropr.split('<')[1])\n",
    "                else:\n",
    "                    opr = '__gt__'\n",
    "                    okey = ropr.split('>')[0]\n",
    "                    ovalue = int(ropr.split('>')[1])\n",
    "                operations.append(Operation(key=okey, opr=opr, value=ovalue, result=result))\n",
    "            else:\n",
    "                operations.append(raw_operation)\n",
    "        rules[key] = operations\n",
    "    return rules\n",
    "\n",
    "def parse_parts(raw_input: str) -> list[Part]:\n",
    "    raw_parts = raw_input.strip().split('\\n\\n')[1]\n",
    "    \n",
    "    parts = []\n",
    "    for row in raw_parts.strip().splitlines():\n",
    "        row = row[1:-1]\n",
    "        kwargs = {}\n",
    "        for ropr in row.split(','):\n",
    "            key, value = ropr.split('=')\n",
    "            kwargs[key] = int(value)\n",
    "        parts.append(Part(**kwargs))\n",
    "    return parts\n",
    "\n",
    "def check_accepted(rules, part: Part):\n",
    "    rule_stacks = deque()\n",
    "    rule_stacks.append(('in', rules['in']))\n",
    "    closed_stacks = set()\n",
    "\n",
    "    while rule_stacks:\n",
    "        rk, rule = rule_stacks.popleft()\n",
    "        if rk in closed_stacks:\n",
    "            print('Duplicated')\n",
    "        result = None\n",
    "        for operation in rule[:-1]:\n",
    "            if isinstance(operation, Operation):\n",
    "                operation_result = getattr(getattr(part, operation.key), operation.opr)(operation.value)\n",
    "                if operation_result:\n",
    "                    result = operation.result\n",
    "                    break\n",
    "        if not result:\n",
    "            result = rule[-1]\n",
    "        if result in ['A', 'R']:\n",
    "            return result == 'A'\n",
    "        \n",
    "        closed_stacks.add(rk)\n",
    "        rule_stacks.append((result, rules[result]))\n",
    "        \n",
    "    return False\n",
    "\n",
    "def total_part(part: Part):\n",
    "    return part.x + part.m + part.a + part.s\n",
    "\n",
    "def solve1(raw_input: str):\n",
    "    rules = parse_rules(raw_input)\n",
    "    parts = parse_parts(raw_input)\n",
    "    \n",
    "    accepted_parts = [part for part in parts if check_accepted(rules, part)]\n",
    "    total = sum([total_part(part) for part in accepted_parts])\n",
    "    return total"
   ]
  },
  {
   "cell_type": "code",
   "execution_count": 119,
   "id": "7eb3ddd1",
   "metadata": {},
   "outputs": [
    {
     "data": {
      "text/plain": [
       "401674"
      ]
     },
     "execution_count": 119,
     "metadata": {},
     "output_type": "execute_result"
    }
   ],
   "source": [
    "solve1(raw_input)"
   ]
  },
  {
   "cell_type": "code",
   "execution_count": 234,
   "id": "58fbe214",
   "metadata": {},
   "outputs": [],
   "source": [
    "def reverse_operation(opr: Operation):\n",
    "    if opr.opr == '__gt__':\n",
    "        ropr = '__lt__'\n",
    "        value = opr.value + 1\n",
    "    else:\n",
    "        ropr = '__gt__'\n",
    "        value = opr.value - 1\n",
    "    return Operation(key=opr.key, opr=ropr, value=value, result=None)\n",
    "\n",
    "def flat_rules(rules):\n",
    "    flat_rules = []\n",
    "    stacks = deque()\n",
    "    stacks.append(('in', []))\n",
    "    \n",
    "    while stacks:\n",
    "        key, pre_oprs = stacks.popleft()\n",
    "        if key == 'A':\n",
    "            flat_rules.append(pre_oprs)\n",
    "            continue\n",
    "        elif key == 'R':\n",
    "            continue\n",
    "        oprs = rules[key]\n",
    "        for opr_index, opr in enumerate(oprs[:-1]):\n",
    "            current_oprs = [reverse_operation(i) for i in oprs[:opr_index]]\n",
    "            current_oprs.append(opr)\n",
    "            stacks.append((opr.result, [*pre_oprs, *current_oprs]))\n",
    "        \n",
    "        current_oprs = [reverse_operation(i) for i in oprs[:-1]]\n",
    "        stacks.append((oprs[-1], [*pre_oprs, *current_oprs]))\n",
    "    \n",
    "    return flat_rules\n",
    "\n",
    "def count_availables(flat_rules):\n",
    "    case = 0\n",
    "    for tfrule in flat_rules:\n",
    "        total = 1\n",
    "        for factor in 'xmas':\n",
    "            oprs = [opr for opr in tfrule if opr.key == factor]\n",
    "            if oprs:\n",
    "                set_oprs = [\n",
    "                    set(range(1, min(opr.value, 4001))) \n",
    "                    if opr.opr == '__lt__' else \n",
    "                    set(range(max(opr.value + 1, 1), 4001))\n",
    "                    for opr in oprs\n",
    "                ]\n",
    "                availables = set(range(1, 4001))\n",
    "                for soprs in set_oprs:\n",
    "                    availables &= soprs\n",
    "                total_availables = len(availables)\n",
    "            else:\n",
    "                total_availables = 4000\n",
    "            total *= total_availables\n",
    "        case += total\n",
    "    return case\n",
    "\n",
    "def solve2(raw_input):\n",
    "    rules = parse_rules(raw_input)\n",
    "    frules = flat_rules(rules)\n",
    "    return count_availables(frules)"
   ]
  },
  {
   "cell_type": "code",
   "execution_count": 235,
   "id": "34723682",
   "metadata": {},
   "outputs": [
    {
     "data": {
      "text/plain": [
       "134906204068564"
      ]
     },
     "execution_count": 235,
     "metadata": {},
     "output_type": "execute_result"
    }
   ],
   "source": [
    "solve2(raw_input)"
   ]
  },
  {
   "cell_type": "code",
   "execution_count": null,
   "id": "ee8f65f5",
   "metadata": {},
   "outputs": [],
   "source": []
  },
  {
   "cell_type": "code",
   "execution_count": null,
   "id": "7d3abb2c",
   "metadata": {},
   "outputs": [],
   "source": []
  },
  {
   "cell_type": "code",
   "execution_count": null,
   "id": "d49ab62a",
   "metadata": {},
   "outputs": [],
   "source": []
  },
  {
   "cell_type": "code",
   "execution_count": null,
   "id": "e2262476",
   "metadata": {},
   "outputs": [],
   "source": []
  },
  {
   "cell_type": "code",
   "execution_count": null,
   "id": "8fe9e417",
   "metadata": {},
   "outputs": [],
   "source": []
  }
 ],
 "metadata": {
  "kernelspec": {
   "display_name": "Python 3 (ipykernel)",
   "language": "python",
   "name": "python3"
  },
  "language_info": {
   "codemirror_mode": {
    "name": "ipython",
    "version": 3
   },
   "file_extension": ".py",
   "mimetype": "text/x-python",
   "name": "python",
   "nbconvert_exporter": "python",
   "pygments_lexer": "ipython3",
   "version": "3.10.12"
  }
 },
 "nbformat": 4,
 "nbformat_minor": 5
}
