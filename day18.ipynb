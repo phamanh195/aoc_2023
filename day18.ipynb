{
 "cells": [
  {
   "cell_type": "code",
   "execution_count": 3,
   "id": "6144bf7f",
   "metadata": {},
   "outputs": [],
   "source": [
    "test_input = \"\"\"\n",
    "R 6 (#70c710)\n",
    "D 5 (#0dc571)\n",
    "L 2 (#5713f0)\n",
    "D 2 (#d2c081)\n",
    "R 2 (#59c680)\n",
    "D 2 (#411b91)\n",
    "L 5 (#8ceee2)\n",
    "U 2 (#caa173)\n",
    "L 1 (#1b58a2)\n",
    "U 2 (#caa171)\n",
    "R 2 (#7807d2)\n",
    "U 3 (#a77fa3)\n",
    "L 2 (#015232)\n",
    "U 2 (#7a21e3)\n",
    "\"\"\"\n",
    "test_input_2 = \"\"\"\n",
    "U 2 (#70c710)\n",
    "L 3 (#70c710)\n",
    "D 4 (#70c710)\n",
    "R 6 (#70c710)\n",
    "U 2 (#70c710)\n",
    "L 2 (#70c710)\n",
    "\"\"\"\n",
    "with open('day18.txt', 'rt') as f: raw_input = f.read()"
   ]
  },
  {
   "cell_type": "code",
   "execution_count": 4,
   "id": "269b3207",
   "metadata": {},
   "outputs": [],
   "source": [
    "from collections import namedtuple, defaultdict\n",
    "\n",
    "\n",
    "Move = namedtuple('Move', ['dx', 'dy'])\n",
    "Position = namedtuple('Position', ['x', 'y'])\n",
    "\n",
    "UP = Move(dx=0, dy=-1)\n",
    "DOWN = Move(dx=0, dy=1)\n",
    "LEFT = Move(dx=-1, dy=0)\n",
    "RIGHT = Move(dx=1, dy=0)\n",
    "\n",
    "MOVE_MAP = {\n",
    "    'U': UP,\n",
    "    'D': DOWN,\n",
    "    'L': LEFT,\n",
    "    'R': RIGHT,\n",
    "}\n",
    "\n",
    "\n",
    "def digout(dig_plans: list[tuple[str, int]]):\n",
    "    dig_points = defaultdict(list)\n",
    "    current_pos = Position(0, 0)\n",
    "    dig_points[current_pos.y].append(current_pos.x)\n",
    "    for m, steps in dig_plans:\n",
    "        move = MOVE_MAP[m]\n",
    "        for _ in range(steps):\n",
    "            current_pos = Position(x=current_pos.x + move.dx, y=current_pos.y + move.dy)\n",
    "            dig_points[current_pos.y].append(current_pos.x)\n",
    "    min_y = min(dig_points)\n",
    "    max_y = max(dig_points)\n",
    "    delta_y = 0 - min_y\n",
    "    min_x = min([min(row) for row in dig_points.values()])\n",
    "    max_x = max([max(row) for row in dig_points.values()])\n",
    "    delta_x = 0 - min_x\n",
    "    length_y = max_y - min_y + 1\n",
    "    length_x = max_x - min_x + 1\n",
    "    matrix = [['.'] * length_x for _ in range(length_y)]\n",
    "    for y, values in dig_points.items():\n",
    "        for x in values:\n",
    "            ry = y + delta_y\n",
    "            rx = x + delta_x\n",
    "            matrix[ry][rx] = '#'\n",
    "    return matrix\n",
    "\n",
    "def solve1(raw_input: str):\n",
    "    dig_plans = []\n",
    "    for row in raw_input.strip().splitlines():\n",
    "        m, steps, _ = row.strip().split()\n",
    "        dig_plans.append((m, int(steps)))\n",
    "    return digout(dig_plans)"
   ]
  },
  {
   "cell_type": "code",
   "execution_count": 6,
   "id": "3aa00c77",
   "metadata": {},
   "outputs": [],
   "source": [
    "matrix = solve1(raw_input)"
   ]
  },
  {
   "cell_type": "code",
   "execution_count": 20,
   "id": "dd5f935c",
   "metadata": {},
   "outputs": [],
   "source": [
    "Matrix = list[list[str]]\n",
    "\n",
    "from queue import deque\n",
    "\n",
    "def is_valid(matrix: Matrix, pos: Position) -> bool:\n",
    "    return pos.x >= 0 and pos.y >= 0 and pos.x < len(matrix[0]) and pos.y < len(matrix)\n",
    "\n",
    "def is_moveable(matrix: Matrix, pos: Position) -> bool:\n",
    "    return is_valid(matrix, pos) and matrix[pos.y][pos.x] != '#'\n",
    "    \n",
    "def calculate(matrix: Matrix):\n",
    "    start_x = matrix[0].index('#')\n",
    "    start_pos = Position(x=start_x + 1, y=1)\n",
    "    stacks = deque()\n",
    "    stacks.append(start_pos)\n",
    "    closed_stacks = set()\n",
    "    \n",
    "    while stacks:\n",
    "        current_pos = stacks.popleft()\n",
    "        if current_pos in closed_stacks:\n",
    "            continue\n",
    "        else:\n",
    "            closed_stacks.add(current_pos)\n",
    "            for move in [UP, DOWN, LEFT, RIGHT]:\n",
    "                pos = Position(x=current_pos.x + move.dx, y=current_pos.y + move.dy)\n",
    "                if is_moveable(matrix, pos):\n",
    "                    stacks.append(pos)\n",
    "    \n",
    "    boundary = sum([row.count('#') for row in matrix])\n",
    "    \n",
    "    return len(closed_stacks) + boundary"
   ]
  },
  {
   "cell_type": "code",
   "execution_count": 21,
   "id": "6eaa87b9",
   "metadata": {},
   "outputs": [
    {
     "data": {
      "text/plain": [
       "53300"
      ]
     },
     "execution_count": 21,
     "metadata": {},
     "output_type": "execute_result"
    }
   ],
   "source": [
    "calculate(matrix)"
   ]
  },
  {
   "cell_type": "code",
   "execution_count": 19,
   "id": "e4acfeeb",
   "metadata": {},
   "outputs": [
    {
     "name": "stdout",
     "output_type": "stream",
     "text": [
      "53300\n"
     ]
    }
   ],
   "source": [
    "with open('day18.op2.txt', 'rt') as f:\n",
    "    print(f.read().count('#'))"
   ]
  },
  {
   "cell_type": "code",
   "execution_count": null,
   "id": "304319f0",
   "metadata": {},
   "outputs": [],
   "source": []
  }
 ],
 "metadata": {
  "kernelspec": {
   "display_name": "Python 3 (ipykernel)",
   "language": "python",
   "name": "python3"
  },
  "language_info": {
   "codemirror_mode": {
    "name": "ipython",
    "version": 3
   },
   "file_extension": ".py",
   "mimetype": "text/x-python",
   "name": "python",
   "nbconvert_exporter": "python",
   "pygments_lexer": "ipython3",
   "version": "3.10.12"
  }
 },
 "nbformat": 4,
 "nbformat_minor": 5
}
