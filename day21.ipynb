{
 "cells": [
  {
   "cell_type": "code",
   "execution_count": 1,
   "id": "608ed2af",
   "metadata": {},
   "outputs": [],
   "source": [
    "test_input = \"\"\"\n",
    "...........\n",
    ".....###.#.\n",
    ".###.##..#.\n",
    "..#.#...#..\n",
    "....#.#....\n",
    ".##..S####.\n",
    ".##..#...#.\n",
    ".......##..\n",
    ".##.#.####.\n",
    ".##..##.##.\n",
    "...........\n",
    "\"\"\"\n",
    "\n",
    "with open('day21.txt', 'rt') as f: raw_input = f.read()"
   ]
  },
  {
   "cell_type": "code",
   "execution_count": 80,
   "id": "30c8b371",
   "metadata": {},
   "outputs": [],
   "source": [
    "from collections import namedtuple\n",
    "from queue import deque\n",
    "import copy\n",
    "\n",
    "Matrix = list[list[str]]\n",
    "Move = namedtuple('Move', ['dx', 'dy'])\n",
    "Position = namedtuple('Position', ['x', 'y'])\n",
    "\n",
    "UP = Move(dx=0, dy=-1)\n",
    "DOWN = Move(dx=0, dy=1)\n",
    "LEFT = Move(dx=-1, dy=0)\n",
    "RIGHT = Move(dx=1, dy=0)\n",
    "\n",
    "MOVES = [UP, DOWN, LEFT, RIGHT]\n",
    "\n",
    "START = 'S'\n",
    "GARDEN_PLOT = '.'\n",
    "ROCK = '#'\n",
    "\n",
    "def parse_matrix(raw_input: str) -> Matrix:\n",
    "    return list(map(list, raw_input.strip().splitlines()))\n",
    "\n",
    "def print_matrix(matrix: Matrix):\n",
    "    for row in matrix:\n",
    "        print(''.join(row))\n",
    "    print('_________________________')\n",
    "\n",
    "def find_start(matrix: Matrix) -> Position:\n",
    "    for y, row in enumerate(matrix):\n",
    "        for x, item in enumerate(row):\n",
    "            if item == START:\n",
    "                return Position(x=x, y=y)\n",
    "\n",
    "def get_item(matrix: Matrix, pos: Position) -> str:\n",
    "    return matrix[pos.y][pos.x]\n",
    "\n",
    "def assign_item(matrix: Matrix, pos: Position, item: str):\n",
    "    matrix[pos.y][pos.x] = item\n",
    "\n",
    "def is_valid(matrix: Matrix, pos: Position) -> bool:\n",
    "    return pos.x >= 0 and pos.y >= 0 and pos.x < len(matrix[0]) and pos.y < len(matrix)\n",
    "\n",
    "def take_move(pos: Position, move: Move) -> Position:\n",
    "    return Position(x=pos.x + move.dx, y=pos.y + move.dy)\n",
    "\n",
    "def is_moveable(matrix: Matrix, pos: Position) -> bool:\n",
    "    return is_valid(matrix, pos) and get_item(matrix, pos) != ROCK\n",
    "\n",
    "def travel(matrix: Matrix, steps: int):\n",
    "    start = find_start(matrix)\n",
    "    matrix = copy.deepcopy(matrix)\n",
    "    matrix[start.y][start.x] = GARDEN_PLOT\n",
    "    \n",
    "    stacks = deque()\n",
    "    stacks.append((start, 0))\n",
    "    closed_stacks = set()\n",
    "    remainder = steps % 2\n",
    "    garden_plots = []\n",
    "\n",
    "    while stacks:\n",
    "        current, pre_steps = stacks.popleft()\n",
    "        if current in closed_stacks:\n",
    "            continue\n",
    "        else:\n",
    "            closed_stacks.add(current)\n",
    "        if pre_steps % 2 == remainder:\n",
    "            garden_plots.append(current)\n",
    "        if pre_steps == steps:\n",
    "            continue\n",
    "        \n",
    "        for move in MOVES:\n",
    "            next_pos = take_move(current, move)\n",
    "#             print(next_pos, get_item(matrix, next_pos), is_moveable(matrix, next_pos), next_pos not in closed_stacks)\n",
    "            if is_moveable(matrix, next_pos) and next_pos not in closed_stacks:\n",
    "                stacks.append((next_pos, pre_steps + 1))\n",
    "    \n",
    "    for pos in garden_plots:\n",
    "        assign_item(matrix, pos, 'O')\n",
    "    print_matrix(matrix)\n",
    "\n",
    "    return len(garden_plots)\n",
    "\n",
    "def solve1(raw_input: str, steps: int):\n",
    "    return travel(parse_matrix(raw_input), steps)"
   ]
  },
  {
   "cell_type": "code",
   "execution_count": 115,
   "id": "455846c1",
   "metadata": {},
   "outputs": [
    {
     "name": "stdout",
     "output_type": "stream",
     "text": [
      ".................................\n",
      ".....###.#......###.#......###.#.\n",
      ".###.##..#..###.##..#..###.##..#.\n",
      "..#.#...#....#.#...#....#.#...#..\n",
      "....#.#........#.#........#.#....\n",
      ".##...####..##...####..##...####.\n",
      ".##..#...#..##..#...#..##..#...#.\n",
      ".......##.........##.........##..\n",
      ".##.#.####..##.#.####..##.#.####.\n",
      ".##..##.##..##..##.##..##..##.##.\n",
      ".................................\n",
      ".................................\n",
      ".....###.#......###O#......###.#.\n",
      ".###.##..#..###.##O.#..###.##..#.\n",
      "..#.#...#..O.#.#.O.#....#.#...#..\n",
      "....#.#...O.O.O#O#O.O.....#.#....\n",
      ".##...####.O##.O.####..##...####.\n",
      ".##..#...#..##O.#.O.#..##..#...#.\n",
      ".......##..O.O.O.O##.........##..\n",
      ".##.#.####..##O#O####..##.#.####.\n",
      ".##..##.##..##.O##.##..##..##.##.\n",
      "..............O..................\n",
      ".................................\n",
      ".....###.#......###.#......###.#.\n",
      ".###.##..#..###.##..#..###.##..#.\n",
      "..#.#...#....#.#...#....#.#...#..\n",
      "....#.#........#.#........#.#....\n",
      ".##...####..##...####..##...####.\n",
      ".##..#...#..##..#...#..##..#...#.\n",
      ".......##.........##.........##..\n",
      ".##.#.####..##.#.####..##.#.####.\n",
      ".##..##.##..##..##.##..##..##.##.\n",
      ".................................\n",
      "_________________________\n"
     ]
    },
    {
     "data": {
      "text/plain": [
       "22"
      ]
     },
     "execution_count": 115,
     "metadata": {},
     "output_type": "execute_result"
    }
   ],
   "source": [
    "solve1(test_input_2, 7)"
   ]
  },
  {
   "cell_type": "code",
   "execution_count": 121,
   "id": "fc9c906e",
   "metadata": {
    "scrolled": true
   },
   "outputs": [
    {
     "name": "stdout",
     "output_type": "stream",
     "text": [
      "O.O.O.O.O.O\n",
      ".O.O.###.#.\n",
      "O###O##.O#O\n",
      ".O#O#O.O#O.\n",
      "O.O.#.#.O.O\n",
      ".##O.O####.\n",
      "O##.O#O.O#O\n",
      ".O.O.O.##O.\n",
      "O##.#.####O\n",
      ".##O.##O##.\n",
      "O.O.O.O.O.O\n",
      "_________________________\n"
     ]
    },
    {
     "data": {
      "text/plain": [
       "42"
      ]
     },
     "execution_count": 121,
     "metadata": {},
     "output_type": "execute_result"
    }
   ],
   "source": [
    "solve1(test_input, 14)"
   ]
  },
  {
   "cell_type": "code",
   "execution_count": 124,
   "id": "ae41ed1a",
   "metadata": {},
   "outputs": [
    {
     "data": {
      "text/plain": [
       "37.95238095238095"
      ]
     },
     "execution_count": 124,
     "metadata": {},
     "output_type": "execute_result"
    }
   ],
   "source": [
    "1594/42"
   ]
  },
  {
   "cell_type": "code",
   "execution_count": 62,
   "id": "172fea1a",
   "metadata": {},
   "outputs": [],
   "source": [
    "test_input_2 = \"\"\"\n",
    ".................................\n",
    ".....###.#......###.#......###.#.\n",
    ".###.##..#..###.##..#..###.##..#.\n",
    "..#.#...#....#.#...#....#.#...#..\n",
    "....#.#........#.#........#.#....\n",
    ".##...####..##...####..##...####.\n",
    ".##..#...#..##..#...#..##..#...#.\n",
    ".......##.........##.........##..\n",
    ".##.#.####..##.#.####..##.#.####.\n",
    ".##..##.##..##..##.##..##..##.##.\n",
    ".................................\n",
    ".................................\n",
    ".....###.#......###.#......###.#.\n",
    ".###.##..#..###.##..#..###.##..#.\n",
    "..#.#...#....#.#...#....#.#...#..\n",
    "....#.#........#.#........#.#....\n",
    ".##...####..##..S####..##...####.\n",
    ".##..#...#..##..#...#..##..#...#.\n",
    ".......##.........##.........##..\n",
    ".##.#.####..##.#.####..##.#.####.\n",
    ".##..##.##..##..##.##..##..##.##.\n",
    ".................................\n",
    ".................................\n",
    ".....###.#......###.#......###.#.\n",
    ".###.##..#..###.##..#..###.##..#.\n",
    "..#.#...#....#.#...#....#.#...#..\n",
    "....#.#........#.#........#.#....\n",
    ".##...####..##...####..##...####.\n",
    ".##..#...#..##..#...#..##..#...#.\n",
    ".......##.........##.........##..\n",
    ".##.#.####..##.#.####..##.#.####.\n",
    ".##..##.##..##..##.##..##..##.##.\n",
    ".................................\"\"\""
   ]
  },
  {
   "cell_type": "code",
   "execution_count": null,
   "id": "0c99eaef",
   "metadata": {},
   "outputs": [],
   "source": []
  },
  {
   "cell_type": "code",
   "execution_count": null,
   "id": "1ba29869",
   "metadata": {},
   "outputs": [],
   "source": []
  },
  {
   "cell_type": "code",
   "execution_count": null,
   "id": "9631dc7c",
   "metadata": {},
   "outputs": [],
   "source": []
  },
  {
   "cell_type": "code",
   "execution_count": null,
   "id": "b511c0c5",
   "metadata": {},
   "outputs": [],
   "source": []
  },
  {
   "cell_type": "code",
   "execution_count": null,
   "id": "bb80ef50",
   "metadata": {},
   "outputs": [],
   "source": []
  }
 ],
 "metadata": {
  "kernelspec": {
   "display_name": "Python 3 (ipykernel)",
   "language": "python",
   "name": "python3"
  },
  "language_info": {
   "codemirror_mode": {
    "name": "ipython",
    "version": 3
   },
   "file_extension": ".py",
   "mimetype": "text/x-python",
   "name": "python",
   "nbconvert_exporter": "python",
   "pygments_lexer": "ipython3",
   "version": "3.10.12"
  }
 },
 "nbformat": 4,
 "nbformat_minor": 5
}
