{
 "cells": [
  {
   "cell_type": "code",
   "execution_count": 7,
   "id": "4ca61618",
   "metadata": {},
   "outputs": [],
   "source": [
    "test_input = \"\"\"\n",
    "???.### 1,1,3\n",
    ".??..??...?##. 1,1,3\n",
    "?#?#?#?#?#?#?#? 1,3,1,6\n",
    "????.#...#... 4,1,1\n",
    "????.######..#####. 1,6,5\n",
    "?###???????? 3,2,1\n",
    "\"\"\"\n",
    "\n",
    "with open('day12.txt', 'rt') as f: raw_input = f.read()"
   ]
  },
  {
   "cell_type": "code",
   "execution_count": 165,
   "id": "48d30f3c",
   "metadata": {},
   "outputs": [],
   "source": [
    "from itertools import combinations\n",
    "from queue import deque\n",
    "\n",
    "OPERATIONAL = '.'\n",
    "DAMAGED = '#'\n",
    "UNKNOWN = '?'\n",
    "\n",
    "def damaged_group(conditions: iter):\n",
    "    group_sizes = []\n",
    "    count = 0\n",
    "    for cond in conditions:\n",
    "        if cond == DAMAGED:\n",
    "            count += 1\n",
    "        else:\n",
    "            if count:\n",
    "                group_sizes.append(count)\n",
    "                count = 0\n",
    "    if count:\n",
    "        group_sizes.append(count)\n",
    "    return group_sizes\n",
    "\n",
    "def find_arrangements_bf(record: str) -> list:\n",
    "    conditions, group_sizes = record.strip().split()\n",
    "    conditions = conditions\n",
    "    group_sizes = list(map(int, group_sizes.split(',')))\n",
    "    \n",
    "    total_damaged = sum(group_sizes)\n",
    "    remain_damaged = total_damaged - conditions.count(DAMAGED)\n",
    "    damaged_able_positions = [i for i, cond in enumerate(conditions) if cond == UNKNOWN]\n",
    "\n",
    "    assumption_conditions = [cond if cond == DAMAGED else OPERATIONAL for cond in conditions]\n",
    "    arrangements = set()\n",
    "    for positions in combinations(damaged_able_positions, remain_damaged):\n",
    "        clarified_conditions = assumption_conditions[::]\n",
    "        for position in positions:\n",
    "            clarified_conditions[position] = DAMAGED\n",
    "        \n",
    "        if damaged_group(clarified_conditions) == group_sizes:\n",
    "            arrangements.add(''.join(clarified_conditions))\n",
    "    return arrangements\n",
    "\n",
    "def solve1(raw_input: str):\n",
    "    return sum(len(find_arrangements(row)) for row in raw_input.strip().splitlines())\n",
    "\n",
    "def find_arrangements_2(record: str, factor: int = 1) -> list:\n",
    "    conditions, group_sizes = record.strip().split()\n",
    "    conditions = '?'.join([conditions for _ in range(factor)])\n",
    "    group_sizes = list(map(int, group_sizes.split(','))) * factor\n",
    "    \n",
    "    arrangements = []\n",
    "    stacks = deque()\n",
    "    stacks.append((0, conditions, group_sizes))\n",
    "    steps = 0\n",
    "    while stacks:\n",
    "        steps += 1\n",
    "        index, conds, gsizes  = stacks.popleft()\n",
    "        if not gsizes:\n",
    "            if DAMAGED not in conds[index:]:\n",
    "                arrangements.append(conds.replace(UNKNOWN, OPERATIONAL))\n",
    "            continue\n",
    "        count = 0\n",
    "        expect_size = gsizes[0]\n",
    "        split_case = None\n",
    "        for cindex, ccond in enumerate(conds[index:], index):\n",
    "            if not count and ccond == OPERATIONAL:\n",
    "                continue\n",
    "            elif ccond == DAMAGED:\n",
    "                count += 1\n",
    "            elif ccond == OPERATIONAL:\n",
    "                break\n",
    "            else:\n",
    "                if count == expect_size:\n",
    "                    # Unknown have to be operational\n",
    "                    conds = conds[:cindex] + OPERATIONAL + conds[cindex + 1:]\n",
    "                    break\n",
    "                else:\n",
    "                    # If not start, split into another case\n",
    "                    if count == 0:\n",
    "                        nconds = conds[:cindex] + OPERATIONAL + conds[cindex + 1:]\n",
    "                        split_case = (cindex + 1, nconds, gsizes)\n",
    "                    #  Unknown have to be damaged\n",
    "                    conds = conds[:cindex] + DAMAGED + conds[cindex + 1:]\n",
    "                    count += 1\n",
    "#         print(conds)\n",
    "        if split_case:\n",
    "            stacks.append(split_case)\n",
    "        if count == expect_size:\n",
    "            stacks.append((cindex + 1, conds, gsizes[1:]))\n",
    "        else:\n",
    "            continue\n",
    "\n",
    "    return arrangements\n",
    "\n",
    "def find_arrangements(conditions, group_sizes) -> list:\n",
    "    arrangements = 0\n",
    "    stacks = deque()\n",
    "    stacks.append((conditions, group_sizes))\n",
    "    steps = 0\n",
    "    while stacks:\n",
    "        steps += 1\n",
    "        conds, gsizes  = stacks.popleft()\n",
    "        if not gsizes:\n",
    "            if DAMAGED not in conds:\n",
    "                arrangements += 1\n",
    "            continue\n",
    "        count = 0\n",
    "        expect_size = gsizes[0]\n",
    "        split_case = None\n",
    "        for cindex, ccond in enumerate(conds):\n",
    "            if not count and ccond == OPERATIONAL:\n",
    "                continue\n",
    "            elif ccond == DAMAGED:\n",
    "                count += 1\n",
    "            elif ccond == OPERATIONAL:\n",
    "                break\n",
    "            else:\n",
    "                if count < expect_size:\n",
    "                    # If not start, split into another case\n",
    "                    if count == 0:\n",
    "                        split_case = (conds[cindex + 1:], gsizes)\n",
    "                    #  Unknown have to be damaged\n",
    "                    count += 1\n",
    "                else:\n",
    "                    break\n",
    "#         print(count, conds, gsizes)\n",
    "        if split_case:\n",
    "            stacks.append(split_case)\n",
    "        if count == expect_size:\n",
    "            stacks.append((conds[cindex + 1:], gsizes[1:]))\n",
    "        else:\n",
    "            continue\n",
    "\n",
    "    return arrangements\n",
    "\n",
    "def find_arrangements_factor(record: str, factor: int = 1) -> list:\n",
    "    conditions, group_sizes = record.strip().split()\n",
    "    conditions = '?'.join([conditions for _ in range(factor)])\n",
    "    group_sizes = list(map(int, group_sizes.split(','))) * factor\n",
    "    return find_arrangements(conditions, group_sizes)\n",
    "\n",
    "def solve2(raw_input: str):\n",
    "    return sum(len(find_arrangements_2(row, factor=5)) for row in raw_input.strip().splitlines())\n"
   ]
  },
  {
   "cell_type": "code",
   "execution_count": 161,
   "id": "241c2f96",
   "metadata": {
    "scrolled": true
   },
   "outputs": [
    {
     "data": {
      "text/plain": [
       "12"
      ]
     },
     "execution_count": 161,
     "metadata": {},
     "output_type": "execute_result"
    }
   ],
   "source": [
    "len(find_arrangements_bf('??????#??????????#??? 7,1,7,1'))"
   ]
  },
  {
   "cell_type": "code",
   "execution_count": 170,
   "id": "0014c1f8",
   "metadata": {},
   "outputs": [
    {
     "data": {
      "text/plain": [
       "32"
      ]
     },
     "execution_count": 170,
     "metadata": {},
     "output_type": "execute_result"
    }
   ],
   "source": [
    "find_arrangements_number(raw_input.strip().splitlines()[2], 5)"
   ]
  },
  {
   "cell_type": "code",
   "execution_count": null,
   "id": "6bb03a30",
   "metadata": {},
   "outputs": [],
   "source": []
  },
  {
   "cell_type": "code",
   "execution_count": null,
   "id": "eb261071",
   "metadata": {
    "scrolled": true
   },
   "outputs": [
    {
     "name": "stdout",
     "output_type": "stream",
     "text": [
      "0 1428\n",
      "1 87846\n",
      "2 32\n",
      "3 712044\n"
     ]
    }
   ],
   "source": [
    "for index, row in enumerate(raw_input.strip().splitlines()):\n",
    "    print(index, len(find_arrangements_2(row, factor=5)))"
   ]
  },
  {
   "cell_type": "code",
   "execution_count": null,
   "id": "5bad7beb",
   "metadata": {},
   "outputs": [],
   "source": []
  },
  {
   "cell_type": "code",
   "execution_count": null,
   "id": "208a2627",
   "metadata": {},
   "outputs": [],
   "source": []
  },
  {
   "cell_type": "code",
   "execution_count": null,
   "id": "f8f3b883",
   "metadata": {},
   "outputs": [],
   "source": []
  },
  {
   "cell_type": "code",
   "execution_count": null,
   "id": "a669b7ea",
   "metadata": {},
   "outputs": [],
   "source": []
  },
  {
   "cell_type": "code",
   "execution_count": null,
   "id": "a1115595",
   "metadata": {},
   "outputs": [],
   "source": []
  },
  {
   "cell_type": "code",
   "execution_count": null,
   "id": "3d4a946f",
   "metadata": {},
   "outputs": [],
   "source": []
  },
  {
   "cell_type": "code",
   "execution_count": null,
   "id": "bf5c0a83",
   "metadata": {},
   "outputs": [],
   "source": []
  },
  {
   "cell_type": "code",
   "execution_count": null,
   "id": "ccb39740",
   "metadata": {},
   "outputs": [],
   "source": []
  },
  {
   "cell_type": "code",
   "execution_count": null,
   "id": "672a14ea",
   "metadata": {},
   "outputs": [],
   "source": []
  },
  {
   "cell_type": "code",
   "execution_count": null,
   "id": "463716b3",
   "metadata": {},
   "outputs": [],
   "source": []
  },
  {
   "cell_type": "code",
   "execution_count": null,
   "id": "12c0545b",
   "metadata": {},
   "outputs": [],
   "source": []
  },
  {
   "cell_type": "code",
   "execution_count": null,
   "id": "28d04710",
   "metadata": {},
   "outputs": [],
   "source": []
  },
  {
   "cell_type": "code",
   "execution_count": null,
   "id": "e7f851da",
   "metadata": {},
   "outputs": [],
   "source": []
  },
  {
   "cell_type": "code",
   "execution_count": null,
   "id": "fd4bafea",
   "metadata": {},
   "outputs": [],
   "source": []
  },
  {
   "cell_type": "code",
   "execution_count": null,
   "id": "07a5776e",
   "metadata": {},
   "outputs": [],
   "source": []
  }
 ],
 "metadata": {
  "kernelspec": {
   "display_name": "Python 3 (ipykernel)",
   "language": "python",
   "name": "python3"
  },
  "language_info": {
   "codemirror_mode": {
    "name": "ipython",
    "version": 3
   },
   "file_extension": ".py",
   "mimetype": "text/x-python",
   "name": "python",
   "nbconvert_exporter": "python",
   "pygments_lexer": "ipython3",
   "version": "3.10.12"
  }
 },
 "nbformat": 4,
 "nbformat_minor": 5
}
