{
 "cells": [
  {
   "cell_type": "code",
   "execution_count": 1,
   "id": "8f0e876d",
   "metadata": {},
   "outputs": [],
   "source": [
    "test_input = \"\"\".|...\\\\....\\n|.-.\\\\.....\\n.....|-...\\n........|.\\n..........\\n.........\\\\\\n..../.\\\\\\\\..\\n.-.-/..|..\\n.|....-|.\\\\\\n..//.|....\"\"\"\n",
    "with open('day16.txt', 'rt') as f: raw_input  = f.read()"
   ]
  },
  {
   "cell_type": "code",
   "execution_count": 2,
   "id": "1c763aaa",
   "metadata": {},
   "outputs": [],
   "source": [
    "from collections import namedtuple\n",
    "import copy\n",
    "from queue import deque\n",
    "\n",
    "Move = namedtuple('Move', ['dx', 'dy'])\n",
    "Position = namedtuple('Position', ['x', 'y'])\n",
    "Matrix = list[list[str]]\n",
    "\n",
    "SPACE = '.'\n",
    "MIRROR_LEFT = '/'\n",
    "MIRROR_RIGHT = '\\\\'\n",
    "SPLITTER_VERTICAL = '|'\n",
    "SPLITTER_HORIZONTAL = '-'\n",
    "ENERGIZED = '#'\n",
    "\n",
    "UP = Move(dx=0, dy=-1)\n",
    "DOWN = Move(dx=0, dy=1)\n",
    "LEFT = Move(dx=-1, dy=0)\n",
    "RIGHT = Move(dx=1, dy=0)\n",
    "UP_RIGHT = Move(dx=1, dy=-1)\n",
    "DOWN_RIGHT = Move(dx=1, dy=1)\n",
    "UP_LEFT = Move(dx=-1, dy=-1)\n",
    "DOWN_LEFT = Move(dx=-1, dy=1)\n",
    "\n",
    "BEHAVIORS: dict[tuple[Move, str], list[Move]] = {\n",
    "    (RIGHT, MIRROR_LEFT): [UP],\n",
    "    (LEFT, MIRROR_LEFT): [DOWN],\n",
    "    (UP, MIRROR_LEFT): [RIGHT],\n",
    "    (DOWN, MIRROR_LEFT): [LEFT],\n",
    "    (RIGHT, MIRROR_RIGHT): [DOWN],\n",
    "    (LEFT, MIRROR_RIGHT): [UP],\n",
    "    (DOWN, MIRROR_RIGHT): [RIGHT],\n",
    "    (UP, MIRROR_RIGHT): [LEFT],\n",
    "    (RIGHT, SPLITTER_VERTICAL): [UP, DOWN],\n",
    "    (LEFT, SPLITTER_VERTICAL): [UP, DOWN],\n",
    "    (UP, SPLITTER_HORIZONTAL): [LEFT, RIGHT],\n",
    "    (DOWN, SPLITTER_HORIZONTAL): [LEFT, RIGHT],\n",
    "}\n",
    "\n",
    "\n",
    "def is_valid(matrix: Matrix, pos: Position) -> bool:\n",
    "    return pos.x >= 0 and pos.y >= 0 and pos.x < len(matrix[0]) and pos.y < len(matrix)\n",
    "\n",
    "\n",
    "def get_item(matrix: Matrix, pos: Position) -> str:\n",
    "    return matrix[pos.y][pos.x]\n",
    "\n",
    "\n",
    "def assign_item(matrix: Matrix, pos: Position, value: str):\n",
    "#     if get_item(matrix, pos) == SPACE:\n",
    "#         matrix[pos.y][pos.x] = value\n",
    "    matrix[pos.y][pos.x] = value\n",
    "\n",
    "\n",
    "def print_matrix(matrix: Matrix):\n",
    "    for row in matrix:\n",
    "        print(''.join(row))\n",
    "    print('________________________________')\n",
    "\n",
    "\n",
    "def calculate_energized(matrix: Matrix, start_pos: Position, start_move: Move):\n",
    "    energized_matrix = copy.deepcopy(matrix)\n",
    "    stacks = deque()\n",
    "    stacks.append((start_pos, start_move))\n",
    "    closed_stacks = set()\n",
    "\n",
    "    while stacks:\n",
    "        current_pos, move = stacks.popleft()\n",
    "        if (current_pos, move) in closed_stacks:\n",
    "            continue\n",
    "        else:\n",
    "            closed_stacks.add((current_pos, move))\n",
    "        next_pos = Position(x=current_pos.x + move.dx, y=current_pos.y + move.dy)\n",
    "        if not is_valid(matrix=matrix, pos=next_pos):\n",
    "            continue\n",
    "        next_pos_value = get_item(matrix=matrix, pos=next_pos)\n",
    "#         print(current_pos, move, next_pos_value, BEHAVIORS.get((move, next_pos_value)))\n",
    "#         print_matrix(energized_matrix)\n",
    "        assign_item(matrix=energized_matrix, pos=next_pos, value=ENERGIZED)\n",
    "        behavior_moves = BEHAVIORS.get((move, next_pos_value))\n",
    "        \n",
    "        if not behavior_moves:\n",
    "            stacks.append((next_pos, move))\n",
    "        else:\n",
    "            for behavior_move in behavior_moves:\n",
    "                behavior_pos = Position(x=next_pos.x + behavior_move.dx, y=next_pos.y + behavior_move.dy)\n",
    "                if is_valid(matrix=matrix, pos=behavior_pos):\n",
    "                    stacks.append((next_pos, behavior_move))\n",
    "    \n",
    "    return energized_matrix\n",
    "\n",
    "\n",
    "def count_energized(matrix: Matrix):\n",
    "    return sum([row.count(ENERGIZED) for row in matrix])\n",
    "\n",
    "\n",
    "def solve1(raw_input: str):\n",
    "    matrix = list(map(list, raw_input.strip().splitlines()))\n",
    "    energized_matrix = calculate_energized(matrix, start_pos=Position(x=-1, y=0), start_move=RIGHT)\n",
    "#     print_matrix(energized_matrix)\n",
    "#     print([row.count(ENERGIZED) for row in energized_matrix])\n",
    "    return count_energized(energized_matrix)\n",
    "\n",
    "def solve2(raw_input: str):\n",
    "    matrix = list(map(list, raw_input.strip().splitlines()))\n",
    "    max_energized, max_energized_matrix = 0, None\n",
    "    start_ways = []\n",
    "    start_ways.extend([(Position(x=x, y=-1), DOWN) for x in range(len(matrix[0]))])\n",
    "    start_ways.extend([(Position(x=x, y=len(matrix)), UP) for x in range(len(matrix[0]))])\n",
    "    start_ways.extend([(Position(x=-1, y=y), RIGHT) for y in range(len(matrix))])\n",
    "    start_ways.extend([(Position(x=len(matrix[0]), y=y), LEFT) for y in range(len(matrix))])\n",
    "    for start_pos, start_move in start_ways:\n",
    "        energized_matrix = calculate_energized(matrix, start_pos, start_move)\n",
    "        energized = count_energized(energized_matrix)\n",
    "        if energized > max_energized:\n",
    "            max_energized = energized\n",
    "            max_energized_matrix = energized_matrix\n",
    "#     print_matrix(max_energized_matrix)\n",
    "    return max_energized"
   ]
  },
  {
   "cell_type": "code",
   "execution_count": 3,
   "id": "bf00b17c",
   "metadata": {},
   "outputs": [
    {
     "data": {
      "text/plain": [
       "6605"
      ]
     },
     "execution_count": 3,
     "metadata": {},
     "output_type": "execute_result"
    }
   ],
   "source": [
    "solve1(raw_input)"
   ]
  },
  {
   "cell_type": "code",
   "execution_count": 4,
   "id": "3dde59ed",
   "metadata": {},
   "outputs": [
    {
     "data": {
      "text/plain": [
       "6766"
      ]
     },
     "execution_count": 4,
     "metadata": {},
     "output_type": "execute_result"
    }
   ],
   "source": [
    "solve2(raw_input)"
   ]
  },
  {
   "cell_type": "code",
   "execution_count": null,
   "id": "5ea8ecb2",
   "metadata": {},
   "outputs": [],
   "source": []
  },
  {
   "cell_type": "code",
   "execution_count": null,
   "id": "f2053cb3",
   "metadata": {},
   "outputs": [],
   "source": []
  },
  {
   "cell_type": "code",
   "execution_count": null,
   "id": "0c908fbe",
   "metadata": {},
   "outputs": [],
   "source": []
  },
  {
   "cell_type": "code",
   "execution_count": null,
   "id": "a0cf297d",
   "metadata": {},
   "outputs": [],
   "source": []
  },
  {
   "cell_type": "code",
   "execution_count": null,
   "id": "b49d8fb1",
   "metadata": {},
   "outputs": [],
   "source": []
  },
  {
   "cell_type": "code",
   "execution_count": null,
   "id": "08a451b9",
   "metadata": {},
   "outputs": [],
   "source": []
  },
  {
   "cell_type": "code",
   "execution_count": null,
   "id": "2103fa0f",
   "metadata": {},
   "outputs": [],
   "source": []
  },
  {
   "cell_type": "code",
   "execution_count": null,
   "id": "61731b11",
   "metadata": {},
   "outputs": [],
   "source": []
  }
 ],
 "metadata": {
  "kernelspec": {
   "display_name": "Python 3 (ipykernel)",
   "language": "python",
   "name": "python3"
  },
  "language_info": {
   "codemirror_mode": {
    "name": "ipython",
    "version": 3
   },
   "file_extension": ".py",
   "mimetype": "text/x-python",
   "name": "python",
   "nbconvert_exporter": "python",
   "pygments_lexer": "ipython3",
   "version": "3.10.12"
  }
 },
 "nbformat": 4,
 "nbformat_minor": 5
}
