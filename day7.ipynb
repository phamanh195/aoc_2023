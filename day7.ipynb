{
 "cells": [
  {
   "cell_type": "code",
   "execution_count": null,
   "id": "bc7d25d4",
   "metadata": {},
   "outputs": [],
   "source": [
    "test_input = '''\n",
    "32T3K 765\n",
    "T55J5 684\n",
    "KK677 28\n",
    "KTJJT 220\n",
    "QQQJA 483\n",
    "'''\n",
    "\n",
    "with open('day7.txt', 'rt') as f: raw_input = f.read()"
   ]
  },
  {
   "cell_type": "code",
   "execution_count": null,
   "id": "05f01a4e",
   "metadata": {},
   "outputs": [],
   "source": [
    "CARDS = ['A', 'K', 'Q', 'T', '9', '8', '7', '6', '5', '4', '3', '2', 'J']\n",
    "CARD_POINTS = {card: len(CARDS) - i for i, card in enumerate(CARDS)}\n",
    "\n",
    "def calculate_hand_point(cards: str) -> str:\n",
    "    distinct_cards = set(cards)\n",
    "    if 'J' in cards:\n",
    "        _cards = cards.replace('J', '')\n",
    "        highest_card = sorted(list(cards), key=lambda x: (_cards.count(x), CARD_POINTS[x]))[-1]\n",
    "        cards = cards.replace('J', highest_card)\n",
    "        distinct_cards = set(cards)\n",
    "    max_point = 8\n",
    "    if len(distinct_cards) == 1:\n",
    "        point = max_point - 1\n",
    "    elif len(distinct_cards) == 2:\n",
    "        if cards.count(cards[0]) in {1, 4}:\n",
    "            point = max_point - 2\n",
    "        else:\n",
    "            point = max_point - 3\n",
    "    elif len(distinct_cards) == 3:\n",
    "        if cards.count(cards[0]) in {1, 3} and cards.count(cards[1]) in {1, 3}:\n",
    "            point = max_point - 4\n",
    "        else:\n",
    "            point = max_point - 5\n",
    "    elif len(distinct_cards) == 4:\n",
    "        point = max_point - 6\n",
    "    else:\n",
    "        point = max_point - 7\n",
    "    return point\n",
    "\n",
    "def total_point(cards: str) -> int:\n",
    "    point = calculate_hand_point(cards)\n",
    "    total_cards = len(cards)\n",
    "    total_point = point * 10 ** (total_cards * 2)\n",
    "    for card_order, card in enumerate(cards, 1):\n",
    "        card_point = CARD_POINTS[card]\n",
    "        total_card_point = card_point * 10 ** ((total_cards - card_order) * 2)\n",
    "        total_point += total_card_point\n",
    "    return total_point"
   ]
  },
  {
   "cell_type": "code",
   "execution_count": null,
   "id": "a2e906b2",
   "metadata": {},
   "outputs": [],
   "source": [
    "def solve1(raw_input):\n",
    "    cards_points = []\n",
    "    for row in raw_input.strip().splitlines():\n",
    "        card, point = row.split()\n",
    "        point = int(point)\n",
    "        cards_points.append((card, point))\n",
    "\n",
    "    cards_points.sort(key=lambda x: total_point(x[0]))\n",
    "#     for rank, (card, point) in enumerate(cards_points[::-1], 1):\n",
    "#         print(list(card), card)\n",
    "    return sum([rank * point for rank, (_, point) in enumerate(cards_points, 1)])"
   ]
  },
  {
   "cell_type": "code",
   "execution_count": null,
   "id": "eea3008a",
   "metadata": {
    "scrolled": true
   },
   "outputs": [],
   "source": [
    "solve1(test_input)"
   ]
  },
  {
   "cell_type": "code",
   "execution_count": 98,
   "id": "d8d72d03",
   "metadata": {},
   "outputs": [
    {
     "data": {
      "text/plain": [
       "250057090"
      ]
     },
     "execution_count": 98,
     "metadata": {},
     "output_type": "execute_result"
    }
   ],
   "source": [
    "solve1(raw_input)"
   ]
  },
  {
   "cell_type": "code",
   "execution_count": 83,
   "id": "660bbbd1",
   "metadata": {},
   "outputs": [
    {
     "data": {
      "text/plain": [
       "249809252"
      ]
     },
     "execution_count": 83,
     "metadata": {},
     "output_type": "execute_result"
    }
   ],
   "source": [
    "solve1(raw_input)"
   ]
  },
  {
   "cell_type": "code",
   "execution_count": 94,
   "id": "8bd8e5db",
   "metadata": {},
   "outputs": [
    {
     "name": "stdout",
     "output_type": "stream",
     "text": [
      "55545\n"
     ]
    },
    {
     "data": {
      "text/plain": [
       "6"
      ]
     },
     "execution_count": 94,
     "metadata": {},
     "output_type": "execute_result"
    }
   ],
   "source": [
    "calculate_hand_point('JJJ45')"
   ]
  },
  {
   "cell_type": "code",
   "execution_count": null,
   "id": "ae327729",
   "metadata": {},
   "outputs": [],
   "source": []
  },
  {
   "cell_type": "code",
   "execution_count": null,
   "id": "2cf5719b",
   "metadata": {},
   "outputs": [],
   "source": []
  }
 ],
 "metadata": {
  "kernelspec": {
   "display_name": "Python 3 (ipykernel)",
   "language": "python",
   "name": "python3"
  },
  "language_info": {
   "codemirror_mode": {
    "name": "ipython",
    "version": 3
   },
   "file_extension": ".py",
   "mimetype": "text/x-python",
   "name": "python",
   "nbconvert_exporter": "python",
   "pygments_lexer": "ipython3",
   "version": "3.10.12"
  }
 },
 "nbformat": 4,
 "nbformat_minor": 5
}
