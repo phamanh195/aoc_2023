{
 "cells": [
  {
   "cell_type": "code",
   "execution_count": 49,
   "id": "fefcf28b",
   "metadata": {},
   "outputs": [],
   "source": [
    "test_input = \"\"\"\n",
    "RL\n",
    "\n",
    "AAA = (BBB, CCC)\n",
    "BBB = (DDD, EEE)\n",
    "CCC = (ZZZ, GGG)\n",
    "DDD = (DDD, DDD)\n",
    "EEE = (EEE, EEE)\n",
    "GGG = (GGG, GGG)\n",
    "ZZZ = (ZZZ, ZZZ)\n",
    "\"\"\"\n",
    "test_input2 = \"\"\"\n",
    "LLR\n",
    "\n",
    "AAA = (BBB, BBB)\n",
    "BBB = (AAA, ZZZ)\n",
    "ZZZ = (ZZZ, ZZZ)\n",
    "\"\"\"\n",
    "test_input3 = \"\"\"\n",
    "LR\n",
    "\n",
    "11A = (11B, XXX)\n",
    "11B = (XXX, 11Z)\n",
    "11Z = (11B, XXX)\n",
    "22A = (22B, XXX)\n",
    "22B = (22C, 22C)\n",
    "22C = (22Z, 22Z)\n",
    "22Z = (22B, 22B)\n",
    "XXX = (XXX, XXX)\n",
    "\"\"\"\n",
    "with open('day8.txt', 'rt') as f: raw_input = f.read()"
   ]
  },
  {
   "cell_type": "code",
   "execution_count": 14,
   "id": "57e5d9b9",
   "metadata": {},
   "outputs": [],
   "source": [
    "from collections import namedtuple\n",
    "\n",
    "Node = namedtuple('Node', ['left', 'right'])\n",
    "\n",
    "def parse_documents(raw_input: str):\n",
    "    instructions = [0 if i == 'L' else 1 for i in raw_input.split('\\n\\n')[0].strip()]\n",
    "    networks = {}\n",
    "    for row in raw_input.strip().split('\\n\\n')[1].strip().splitlines():\n",
    "        node = row[:3]\n",
    "        left = row[7:10]\n",
    "        right = row[-4:-1]\n",
    "        networks[node] = Node(left, right)\n",
    "    return instructions, networks"
   ]
  },
  {
   "cell_type": "code",
   "execution_count": 15,
   "id": "7b3d2efc",
   "metadata": {},
   "outputs": [
    {
     "data": {
      "text/plain": [
       "([1, 0],\n",
       " {'AAA': Node(left='BBB', right='CCC'),\n",
       "  'BBB': Node(left='DDD', right='EEE'),\n",
       "  'CCC': Node(left='ZZZ', right='GGG'),\n",
       "  'DDD': Node(left='DDD', right='DDD'),\n",
       "  'EEE': Node(left='EEE', right='EEE'),\n",
       "  'GGG': Node(left='GGG', right='GGG'),\n",
       "  'ZZZ': Node(left='ZZZ', right='ZZZ')})"
      ]
     },
     "execution_count": 15,
     "metadata": {},
     "output_type": "execute_result"
    }
   ],
   "source": [
    "parse_documents(test_input)"
   ]
  },
  {
   "cell_type": "code",
   "execution_count": 75,
   "id": "fe1855b8",
   "metadata": {},
   "outputs": [],
   "source": [
    "def solve1(raw_input: str) -> int:\n",
    "    instructions, networks = parse_documents(raw_input)\n",
    "    \n",
    "    step = 0\n",
    "    node = 'AAA'\n",
    "    end_node = 'ZZZ'\n",
    "    while True:\n",
    "        if node == end_node:\n",
    "            break\n",
    "        action = instructions[step % len(instructions)]\n",
    "        node = networks[node][action]\n",
    "        step += 1\n",
    "#         print('L' if action == 0 else 'R', node)\n",
    "\n",
    "    return step\n",
    "\n",
    "def solve2(raw_input: str) -> int:\n",
    "    instructions, networks = parse_documents(raw_input)\n",
    "    \n",
    "    step = 0\n",
    "    \n",
    "    nodes = [node for node in networks if node.endswith('A')]\n",
    "    while True:\n",
    "        is_end = True\n",
    "        for node in nodes:\n",
    "            if not node.endswith('Z'):\n",
    "                is_end = False\n",
    "                break\n",
    "        if is_end:\n",
    "            break\n",
    "        \n",
    "        action = instructions[step % len(instructions)]\n",
    "        nodes = [networks[node][action] for node in nodes]\n",
    "        step +=1\n",
    "        print('L' if action == 0 else 'R', nodes)\n",
    "    return step\n"
   ]
  },
  {
   "cell_type": "code",
   "execution_count": 77,
   "id": "2e36d5fd",
   "metadata": {},
   "outputs": [
    {
     "name": "stdout",
     "output_type": "stream",
     "text": [
      "L ['11B', '22B']\n",
      "R ['11Z', '22C']\n",
      "L ['11B', '22Z']\n",
      "R ['11Z', '22B']\n",
      "L ['11B', '22C']\n",
      "R ['11Z', '22Z']\n"
     ]
    },
    {
     "data": {
      "text/plain": [
       "6"
      ]
     },
     "execution_count": 77,
     "metadata": {},
     "output_type": "execute_result"
    }
   ],
   "source": [
    "solve2(test_input3)"
   ]
  },
  {
   "cell_type": "code",
   "execution_count": 78,
   "id": "a3429138",
   "metadata": {},
   "outputs": [],
   "source": [
    "instructions, networks = parse_documents(raw_input)"
   ]
  },
  {
   "cell_type": "code",
   "execution_count": 79,
   "id": "4b50e6fc",
   "metadata": {},
   "outputs": [
    {
     "data": {
      "text/plain": [
       "['VCA', 'FRA', 'SNA', 'HNA', 'AAA', 'RPA']"
      ]
     },
     "execution_count": 79,
     "metadata": {},
     "output_type": "execute_result"
    }
   ],
   "source": [
    "[node for node in networks if node.endswith('A')]"
   ]
  },
  {
   "cell_type": "code",
   "execution_count": 85,
   "id": "1418feeb",
   "metadata": {},
   "outputs": [
    {
     "name": "stdout",
     "output_type": "stream",
     "text": [
      "18727\n"
     ]
    }
   ],
   "source": [
    "step = 0\n",
    "node = 'RPA'\n",
    "while True:\n",
    "    if node.endswith('Z'):\n",
    "        break\n",
    "    action = instructions[step % len(instructions)]\n",
    "    node = networks[node][action]\n",
    "    step +=1\n",
    "print(step)"
   ]
  },
  {
   "cell_type": "code",
   "execution_count": 86,
   "id": "3e6fd5c2",
   "metadata": {},
   "outputs": [
    {
     "data": {
      "text/plain": [
       "(18113, 22411, 21797, 14429, 16271, 18727)"
      ]
     },
     "execution_count": 86,
     "metadata": {},
     "output_type": "execute_result"
    }
   ],
   "source": [
    "18113, 22411, 21797, 14429, 16271, 18727"
   ]
  },
  {
   "cell_type": "code",
   "execution_count": 98,
   "id": "7dc86a80",
   "metadata": {},
   "outputs": [
    {
     "data": {
      "text/plain": [
       "14265111103729"
      ]
     },
     "execution_count": 98,
     "metadata": {},
     "output_type": "execute_result"
    }
   ],
   "source": [
    "import math\n",
    "math.lcm(18113, 22411, 21797, 14429, 16271, 18727)"
   ]
  },
  {
   "cell_type": "code",
   "execution_count": 94,
   "id": "dbf80c80",
   "metadata": {},
   "outputs": [
    {
     "data": {
      "text/plain": [
       "61.0"
      ]
     },
     "execution_count": 94,
     "metadata": {},
     "output_type": "execute_result"
    }
   ],
   "source": [
    "18727 / 307"
   ]
  },
  {
   "cell_type": "code",
   "execution_count": null,
   "id": "fad9fc68",
   "metadata": {},
   "outputs": [],
   "source": []
  }
 ],
 "metadata": {
  "kernelspec": {
   "display_name": "Python 3 (ipykernel)",
   "language": "python",
   "name": "python3"
  },
  "language_info": {
   "codemirror_mode": {
    "name": "ipython",
    "version": 3
   },
   "file_extension": ".py",
   "mimetype": "text/x-python",
   "name": "python",
   "nbconvert_exporter": "python",
   "pygments_lexer": "ipython3",
   "version": "3.10.12"
  }
 },
 "nbformat": 4,
 "nbformat_minor": 5
}
